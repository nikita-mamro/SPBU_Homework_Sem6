{
 "cells": [
  {
   "cell_type": "markdown",
   "id": "extraordinary-judges",
   "metadata": {},
   "source": [
    "# Лабораторная работа 3. Вариант 1. Группа 343"
   ]
  },
  {
   "cell_type": "code",
   "execution_count": 1,
   "id": "periodic-foundation",
   "metadata": {},
   "outputs": [
    {
     "name": "stdout",
     "output_type": "stream",
     "text": [
      "A =\n",
      " [[-0.81417 -0.01937  0.41372]\n",
      " [-0.01937  0.54414  0.0059 ]\n",
      " [ 0.41372  0.0059  -0.81445]]\n",
      "Y0 =\n",
      " [[0.1]\n",
      " [0.1]\n",
      " [0.1]]\n"
     ]
    }
   ],
   "source": [
    "import numpy as np\n",
    "from numpy import linalg as LA\n",
    "\n",
    "A = np.array([[-0.81417, -0.01937, 0.41372 ],\n",
    "              [-0.01937,  0.54414,  0.00590],\n",
    "              [0.41372, 0.00590, -0.81445]])\n",
    "print('A =\\n', A)\n",
    "epsilon_1 = 0.001\n",
    "epsilon_2 = 0.000001\n",
    "\n",
    "\n",
    "def find_normed_vector(v):\n",
    "    return v / LA.norm(v, 2)\n",
    "\n",
    "\n",
    "y0 = np.array([[0.1, 0.1, 0.1]]).T\n",
    "print('Y0 =\\n', y0)\n",
    "\n",
    "\n",
    "def find_yk(A, k):\n",
    "    if k < 0:\n",
    "            raise ValueError('k can not be negative')\n",
    "    if k == 0:\n",
    "        return y0\n",
    "    return np.dot(A, find_yk(A, k - 1))"
   ]
  },
  {
   "cell_type": "markdown",
   "id": "adopted-faculty",
   "metadata": {},
   "source": [
    "### 1) Найти степенным методом с точностью $\\varepsilon=0.001$ максимальное по модулю собственное число $\\lambda_1$ матрицы $A$ и соответствующий ему собственный вектор $x^{(1)}$, так чтобы $\\|x^{(1)}\\|_2=1$."
   ]
  },
  {
   "cell_type": "code",
   "execution_count": 2,
   "id": "widespread-establishment",
   "metadata": {},
   "outputs": [
    {
     "name": "stdout",
     "output_type": "stream",
     "text": [
      "Максимальное по модулю с.ч.:\n",
      " -1.228206052434601\n",
      "Собственный вектор:\n",
      " [[-0.7070352 ]\n",
      " [-0.00998411]\n",
      " [ 0.70710787]]\n",
      "Число итераций:  17\n"
     ]
    }
   ],
   "source": [
    "def find_eigenvalue_and_y_power(A, epsilon):\n",
    "    def find_eigenvalue_and_y_rec(k, prev_lambdas = None):\n",
    "        yk = find_yk(A, k)\n",
    "        yk1 = find_yk(A, k + 1)\n",
    "        lambdas = yk1 / yk\n",
    "        if prev_lambdas is not None:\n",
    "            yk_prev = find_yk(A, k - 1)\n",
    "            max_lambda = np.amax(lambdas)\n",
    "            error = LA.norm(np.dot(A, yk_prev) - np.dot(max_lambda, yk_prev), 2) / LA.norm(yk_prev, 2)\n",
    "            if error <= epsilon:\n",
    "                return (max_lambda, yk, k)\n",
    "\n",
    "        return find_eigenvalue_and_y_rec(k + 1, lambdas)\n",
    "    \n",
    "    return find_eigenvalue_and_y_rec(0)\n",
    "\n",
    "    \n",
    "(power_eigenvalue, power_y, power_iterations) = find_eigenvalue_and_y_power(A, epsilon_1)\n",
    "\n",
    "normed_y = find_normed_vector(power_y)\n",
    "print('Максимальное по модулю с.ч.:\\n', power_eigenvalue)\n",
    "print('Собственный вектор:\\n', normed_y)\n",
    "print('Число итераций: ', power_iterations)"
   ]
  },
  {
   "cell_type": "markdown",
   "id": "miniature-therapist",
   "metadata": {},
   "source": [
    "### 2) Найти методом скалярных произведений с точностью $\\varepsilon^2=0.000001$ максимальное по модулю собственное число матрицы $\\lambda_1$. Сравнить требуемое количество итераций с п.1.\n"
   ]
  },
  {
   "cell_type": "code",
   "execution_count": 3,
   "id": "anticipated-america",
   "metadata": {},
   "outputs": [
    {
     "name": "stdout",
     "output_type": "stream",
     "text": [
      "Максимальное по модулю с.ч.:\n",
      " -1.228210145719265\n",
      "Число итераций:  25\n"
     ]
    }
   ],
   "source": [
    "def find_eigenvalue_scalar(A, epsilon):\n",
    "    def find_eigenvalue_rec(k, prev_lambdas = None):\n",
    "        yk = find_yk(A, k)\n",
    "        yk1 = find_yk(A, k + 1)\n",
    "        lambdas = (yk1 * yk) / (yk * yk)\n",
    "        if prev_lambdas is not None:\n",
    "            yk_prev = find_yk(A, k - 1)\n",
    "            max_lambda = np.amax(lambdas)\n",
    "            error = LA.norm(np.dot(A, yk_prev) - np.dot(max_lambda, yk_prev), 2) / LA.norm(yk_prev, 2)\n",
    "            if error <= epsilon:\n",
    "                return (max_lambda, k)\n",
    "\n",
    "        return find_eigenvalue_rec(k + 1, lambdas)\n",
    "    \n",
    "    return find_eigenvalue_rec(0)\n",
    "\n",
    "(scalar_eigenvalue, scalar_iterations) = find_eigenvalue_scalar(A, epsilon_2)\n",
    "print('Максимальное по модулю с.ч.:\\n', scalar_eigenvalue)\n",
    "print('Число итераций: ', scalar_iterations)"
   ]
  },
  {
   "cell_type": "markdown",
   "id": "catholic-zoning",
   "metadata": {},
   "source": [
    "### Ожидается, что число итераций будет схожим, т.к. в первом случае использовали $\\varepsilon$, а во втором $-$ $\\varepsilon^2$"
   ]
  },
  {
   "cell_type": "code",
   "execution_count": 4,
   "id": "precious-evaluation",
   "metadata": {},
   "outputs": [
    {
     "name": "stdout",
     "output_type": "stream",
     "text": [
      "Число итераций в п.1:  17\n",
      "Число итераций в п.2:  25\n"
     ]
    }
   ],
   "source": [
    "print('Число итераций в п.1: ', power_iterations)\n",
    "print('Число итераций в п.2: ', scalar_iterations)"
   ]
  }
 ],
 "metadata": {
  "kernelspec": {
   "display_name": "Python 3",
   "language": "python",
   "name": "python3"
  },
  "language_info": {
   "codemirror_mode": {
    "name": "ipython",
    "version": 3
   },
   "file_extension": ".py",
   "mimetype": "text/x-python",
   "name": "python",
   "nbconvert_exporter": "python",
   "pygments_lexer": "ipython3",
   "version": "3.7.4"
  }
 },
 "nbformat": 4,
 "nbformat_minor": 5
}
