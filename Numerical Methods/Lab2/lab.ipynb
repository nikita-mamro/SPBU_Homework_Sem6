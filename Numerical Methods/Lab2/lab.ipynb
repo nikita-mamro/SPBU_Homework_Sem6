{
 "cells": [
  {
   "cell_type": "code",
   "execution_count": 167,
   "id": "increasing-thread",
   "metadata": {},
   "outputs": [],
   "source": [
    "import numpy as np\n",
    "from numpy import linalg as LA\n",
    "from IPython.display import display, Math, Latex\n",
    "\n",
    "\n",
    "def find_inverse(A):\n",
    "    shape = A.shape\n",
    "    if len(shape) != 2 or shape[0] != shape[1]:\n",
    "        raise ValueError('A is not square 2d matrix')\n",
    "\n",
    "    n = len(A)\n",
    "\n",
    "    B = np.eye(n)\n",
    "\n",
    "    # Elimination\n",
    "    for i in range(n):\n",
    "        if A[i][i] == 0:\n",
    "            raise ValueError('Pivot is zero applying Gauss Jordan elimination')\n",
    "\n",
    "        for j in range(n):\n",
    "            if i != j:\n",
    "                ratio = A[j, i] / A[i, i]\n",
    "\n",
    "                for k in range(n):\n",
    "                    A[j][k] = A[j][k] - ratio * A[i][k]\n",
    "                    B[j][k] = B[j][k] - ratio * B[i][k]\n",
    "\n",
    "    # Normalization\n",
    "    for i in range(n):\n",
    "        B[i] /= A[i][i]\n",
    "\n",
    "    return B\n",
    "\n",
    "\n",
    "\n",
    "# P.94 V.1\n",
    "A = np.array([[3.278164, 1.046583, -2.06459],\n",
    "              [1.046583,  2.975937,  0.934251],\n",
    "              [-1.378574, 0.934251, 4.836173]])\n",
    "\n",
    "b = np.array([[-0.527466],\n",
    "              [2.526877],\n",
    "              [5.165441]])\n",
    "\n",
    "accuracy = 9"
   ]
  },
  {
   "cell_type": "markdown",
   "id": "middle-cutting",
   "metadata": {},
   "source": [
    "Дана линейная система Ax=b"
   ]
  },
  {
   "cell_type": "code",
   "execution_count": 168,
   "id": "collective-concert",
   "metadata": {},
   "outputs": [
    {
     "name": "stdout",
     "output_type": "stream",
     "text": [
      "A =\n",
      " [[ 3.278164  1.046583 -2.06459 ]\n",
      " [ 1.046583  2.975937  0.934251]\n",
      " [-1.378574  0.934251  4.836173]]\n",
      "b =\n",
      " [[-0.527466]\n",
      " [ 2.526877]\n",
      " [ 5.165441]]\n"
     ]
    }
   ],
   "source": [
    "print('A =\\n', A)\n",
    "print('b =\\n', b)"
   ]
  },
  {
   "cell_type": "code",
   "execution_count": 169,
   "id": "employed-harris",
   "metadata": {},
   "outputs": [
    {
     "data": {
      "text/latex": [
       "1) Найти решение $x^∗$ методом Гаусса."
      ],
      "text/plain": [
       "<IPython.core.display.Latex object>"
      ]
     },
     "metadata": {},
     "output_type": "display_data"
    }
   ],
   "source": [
    "display(Latex('1) Найти решение $x^∗$ методом Гаусса.'))"
   ]
  },
  {
   "cell_type": "code",
   "execution_count": 170,
   "id": "faced-memory",
   "metadata": {},
   "outputs": [
    {
     "name": "stdout",
     "output_type": "stream",
     "text": [
      "[0.44116647 0.33976985 1.12820433]\n"
     ]
    }
   ],
   "source": [
    "def find_solution_gauss(A, b, use_pivoting=False):\n",
    "    n = len(A)\n",
    "    if b.size != n:\n",
    "        raise ValueError('Incompatible sizes of A and b')\n",
    "\n",
    "    for i in range(n - 1):\n",
    "        if use_pivoting:\n",
    "            pivot_index = abs(A[i:, i]).argmax() + i\n",
    "            if A[pivot_index, i] == 0:\n",
    "                raise ValueError('A is singular')\n",
    "\n",
    "            if pivot_index != i:\n",
    "                A[[i, pivot_index]] = A[[pivot_index, i]]\n",
    "                b[[i, pivot_index]] = b[[pivot_index, i]]\n",
    "        else:\n",
    "            if A[i, i] == 0:\n",
    "                raise ValueError('Pivot is zero')\n",
    "\n",
    "        for j in range(i + 1, n):\n",
    "            ratio = A[j, i] / A[i, i]\n",
    "            A[j, i:] -= ratio * A[i, i:]\n",
    "            b[j] -= ratio * b[i]\n",
    "\n",
    "    x = np.zeros(n)\n",
    "    for i in range(n - 1, -1, -1):\n",
    "        x[i] = (b[i] - np.dot(A[i, i + 1:], x[i + 1:])) / A[i, i]\n",
    "\n",
    "    return x\n",
    "\n",
    "x_sln = find_solution_gauss(np.copy(A), b)\n",
    "print(x_sln)"
   ]
  },
  {
   "cell_type": "code",
   "execution_count": 171,
   "id": "hawaiian-scratch",
   "metadata": {},
   "outputs": [
    {
     "data": {
      "text/latex": [
       "2) Преобразовать исходную систему к системе вида $x = H_Dx+g_D$ , где $H_D = E − D^{−1}A$, $g_D = D^{−1}b$. Здесь D — диагональная матрица, у которой на диагонали находятся диагональные элементы матрицы A. Вычислить $\\|H_D\\|_\\infty$."
      ],
      "text/plain": [
       "<IPython.core.display.Latex object>"
      ]
     },
     "metadata": {},
     "output_type": "display_data"
    }
   ],
   "source": [
    "display(Latex('2) Преобразовать исходную систему к системе вида $x = H_Dx+g_D$ , где $H_D = E − D^{−1}A$, $g_D = D^{−1}b$. Здесь D — диагональная матрица, у которой на диагонали находятся диагональные элементы матрицы A. Вычислить $\\|H_D\\|_\\infty$.'))"
   ]
  },
  {
   "cell_type": "code",
   "execution_count": 172,
   "id": "abandoned-lambda",
   "metadata": {},
   "outputs": [
    {
     "name": "stdout",
     "output_type": "stream",
     "text": [
      "D =\n",
      " [[3.278164 0.       0.      ]\n",
      " [0.       2.975937 0.      ]\n",
      " [0.       0.       4.836173]]\n",
      "\n",
      "Hd =\n",
      " [[ 0.         -0.31925889  0.62980071]\n",
      " [-0.35168184  0.         -0.31393507]\n",
      " [ 0.28505473 -0.19317981  0.        ]]\n",
      "\n",
      "gd =\n",
      " [[-0.02759516]\n",
      " [ 0.73239185]\n",
      " [ 0.58293095]]\n",
      "\n",
      "||Hd|| =\n",
      " 0.9490595960000001\n"
     ]
    }
   ],
   "source": [
    "D = np.diag(np.diag(np.copy(A)))\n",
    "print('D =\\n', D)\n",
    "Hd = np.eye(len(A)) - LA.inv(np.copy(D)).dot(A).round(accuracy)\n",
    "print('\\nHd =\\n', Hd)\n",
    "gd = LA.inv(np.copy(A)).dot(b).round(accuracy)\n",
    "print('\\ngd =\\n', gd)\n",
    "hd_norm = LA.norm(Hd, np.inf)\n",
    "print('\\n||Hd|| =\\n', hd_norm)"
   ]
  },
  {
   "cell_type": "code",
   "execution_count": 173,
   "id": "permanent-valuable",
   "metadata": {},
   "outputs": [
    {
     "data": {
      "text/latex": [
       "3) Вычислить априорную оценку погрешности $\\|x^{(7)} − x^*\\|_\\infty$."
      ],
      "text/plain": [
       "<IPython.core.display.Latex object>"
      ]
     },
     "metadata": {},
     "output_type": "display_data"
    }
   ],
   "source": [
    "display(Latex('3) Вычислить априорную оценку погрешности $\\|x^{(7)} − x^*\\|_\\infty$.'))"
   ]
  },
  {
   "cell_type": "code",
   "execution_count": 174,
   "id": "western-program",
   "metadata": {},
   "outputs": [
    {
     "name": "stdout",
     "output_type": "stream",
     "text": [
      "Априорная оценка: ||x_k - x*|| <=  9.970926449297338\n"
     ]
    }
   ],
   "source": [
    "def count_aprior_error(H, g, x0, k):\n",
    "    return LA.norm(H, np.inf) ** k * LA.norm(x0, np.inf) + (LA.norm(H, np.inf) ** k / (1 - LA.norm(H, np.inf))) * LA.norm(g, np.inf)\n",
    "    \n",
    "aprior_error = count_aprior_error(Hd, gd, np.zeros((len(Hd), 1)), 7)\n",
    "print('Априорная оценка: ||x_k - x*|| <= ', aprior_error)"
   ]
  },
  {
   "cell_type": "code",
   "execution_count": 175,
   "id": "documentary-committee",
   "metadata": {},
   "outputs": [
    {
     "data": {
      "text/latex": [
       "4) Вычислить приближение $x^{(7)}$ методом простой итерации. Вывести его фактическую погрешность, апостериорную оценку, априорную оценку. Уточнить последнее приближение по Люстернику. Вывести его фактическую погрешность."
      ],
      "text/plain": [
       "<IPython.core.display.Latex object>"
      ]
     },
     "metadata": {},
     "output_type": "display_data"
    }
   ],
   "source": [
    "display(Latex('4) Вычислить приближение $x^{(7)}$ методом простой итерации. Вывести его фактическую погрешность, апостериорную оценку, априорную оценку. Уточнить последнее приближение по Люстернику. Вывести его фактическую погрешность.'))"
   ]
  },
  {
   "cell_type": "code",
   "execution_count": 176,
   "id": "urban-blame",
   "metadata": {},
   "outputs": [
    {
     "name": "stdout",
     "output_type": "stream",
     "text": [
      "x_7 =\n",
      " [[0.12271025]\n",
      " [0.52982163]\n",
      " [0.51409604]]\n",
      "Апостериорная оценка: ||x_7 - x*|| <=  0.09291379686341547\n",
      "Априорная оценка: ||x_k - x*|| <=  9.970926449297338\n",
      "||x_7 - x*|| =  1.541009890416078\n"
     ]
    }
   ],
   "source": [
    "def find_solution_simple_iteration(H, g, k):\n",
    "    if k < 0:\n",
    "        raise ValueError('k can not be negative')\n",
    "    if k == 0:\n",
    "        return np.zeros((len(H), 1))\n",
    "    return H.dot(find_solution_simple_iteration(H, g, k - 1)) + g\n",
    "\n",
    "\n",
    "def count_aposterior_error(H, xk, xk1):\n",
    "    return (LA.norm(H, np.inf) / (1 - LA.norm(H, np.inf))) * LA.norm(xk - xk1, np.inf)\n",
    "\n",
    "x_6 = find_solution_simple_iteration(Hd, gd, 6)\n",
    "x_7 = find_solution_simple_iteration(Hd, gd, 7)\n",
    "aposterior_error = count_aposterior_error(Hd, x_7, x_6)\n",
    "print('x_7 =\\n', x_7)\n",
    "print('Апостериорная оценка: ||x_7 - x*|| <= ', aposterior_error)\n",
    "print('Априорная оценка: ||x_k - x*|| <= ', aprior_error)\n",
    "print('||x_7 - x*|| = ', LA.norm(x_7 - x_sln, np.inf))"
   ]
  },
  {
   "cell_type": "code",
   "execution_count": 35,
   "id": "norwegian-words",
   "metadata": {},
   "outputs": [
    {
     "data": {
      "text/latex": [
       "5) Вычислить приближение $x^{(7)}$ к решению системы $x = H_Dx + g_D$ методом Зейделя. Вывести его фактическую погрешность. Сравнить с решением, полученным методом простой итерации."
      ],
      "text/plain": [
       "<IPython.core.display.Latex object>"
      ]
     },
     "metadata": {},
     "output_type": "display_data"
    }
   ],
   "source": [
    "display(Latex('5) Вычислить приближение $x^{(7)}$ к решению системы $x = H_Dx + g_D$ методом Зейделя. Вывести его фактическую погрешность. Сравнить с решением, полученным методом простой итерации.'))"
   ]
  },
  {
   "cell_type": "code",
   "execution_count": null,
   "id": "internal-helicopter",
   "metadata": {},
   "outputs": [],
   "source": []
  },
  {
   "cell_type": "code",
   "execution_count": 38,
   "id": "sporting-confirmation",
   "metadata": {},
   "outputs": [
    {
     "data": {
      "text/latex": [
       "6) При выполнении задания в математическом пакете определить спектральный радиус матрицы перехода, если рассматривать метод Зейделя как метод простой итерации."
      ],
      "text/plain": [
       "<IPython.core.display.Latex object>"
      ]
     },
     "metadata": {},
     "output_type": "display_data"
    }
   ],
   "source": [
    "display(Latex('6) При выполнении задания в математическом пакете определить спектральный радиус матрицы перехода, если рассматривать метод Зейделя как метод простой итерации.'))"
   ]
  },
  {
   "cell_type": "code",
   "execution_count": null,
   "id": "documented-lexington",
   "metadata": {},
   "outputs": [],
   "source": []
  },
  {
   "cell_type": "code",
   "execution_count": 36,
   "id": "veterinary-function",
   "metadata": {},
   "outputs": [
    {
     "data": {
      "text/latex": [
       "7) Вычислить приближение $x^{(7)}$ методом верхней релаксации."
      ],
      "text/plain": [
       "<IPython.core.display.Latex object>"
      ]
     },
     "metadata": {},
     "output_type": "display_data"
    }
   ],
   "source": [
    "display(Latex('7) Вычислить приближение $x^{(7)}$ методом верхней релаксации.'))"
   ]
  },
  {
   "cell_type": "code",
   "execution_count": null,
   "id": "beautiful-incentive",
   "metadata": {},
   "outputs": [],
   "source": []
  },
  {
   "cell_type": "code",
   "execution_count": 37,
   "id": "durable-range",
   "metadata": {},
   "outputs": [
    {
     "data": {
      "text/latex": [
       "Сравнить фактические погрешности $x^{(7)}$, полученного различными методами."
      ],
      "text/plain": [
       "<IPython.core.display.Latex object>"
      ]
     },
     "metadata": {},
     "output_type": "display_data"
    }
   ],
   "source": [
    "display(Latex('Сравнить фактические погрешности $x^{(7)}$, полученного различными методами.'))"
   ]
  },
  {
   "cell_type": "code",
   "execution_count": null,
   "id": "overall-renewal",
   "metadata": {},
   "outputs": [],
   "source": []
  }
 ],
 "metadata": {
  "kernelspec": {
   "display_name": "Python 3",
   "language": "python",
   "name": "python3"
  },
  "language_info": {
   "codemirror_mode": {
    "name": "ipython",
    "version": 3
   },
   "file_extension": ".py",
   "mimetype": "text/x-python",
   "name": "python",
   "nbconvert_exporter": "python",
   "pygments_lexer": "ipython3",
   "version": "3.7.4"
  }
 },
 "nbformat": 4,
 "nbformat_minor": 5
}
