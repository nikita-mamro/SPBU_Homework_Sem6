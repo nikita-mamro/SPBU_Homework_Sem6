{
 "cells": [
  {
   "cell_type": "markdown",
   "id": "micro-skill",
   "metadata": {},
   "source": [
    "# Лабораторная работа 2. Вариант 1."
   ]
  },
  {
   "cell_type": "code",
   "execution_count": 1,
   "id": "following-course",
   "metadata": {},
   "outputs": [],
   "source": [
    "import numpy as np\n",
    "from numpy import linalg as LA\n",
    "from IPython.display import display, Math, Latex\n",
    "\n",
    "\n",
    "def find_max_eigenvalue(A):\n",
    "    return np.amax(LA.eigvals(A))\n",
    "\n",
    "\n",
    "def find_inverse(A):\n",
    "    shape = A.shape\n",
    "    if len(shape) != 2 or shape[0] != shape[1]:\n",
    "        raise ValueError('A is not square 2d matrix')\n",
    "\n",
    "    n = len(A)\n",
    "\n",
    "    B = np.eye(n)\n",
    "\n",
    "    # Elimination\n",
    "    for i in range(n):\n",
    "        if A[i][i] == 0:\n",
    "            raise ValueError('Pivot is zero applying Gauss Jordan elimination')\n",
    "\n",
    "        for j in range(n):\n",
    "            if i != j:\n",
    "                ratio = A[j, i] / A[i, i]\n",
    "\n",
    "                for k in range(n):\n",
    "                    A[j][k] = A[j][k] - ratio * A[i][k]\n",
    "                    B[j][k] = B[j][k] - ratio * B[i][k]\n",
    "\n",
    "    # Normalization\n",
    "    for i in range(n):\n",
    "        B[i] /= A[i][i]\n",
    "\n",
    "    return B\n",
    "\n",
    "\n",
    "\n",
    "# P.94 V.1\n",
    "A = np.array([[3.278164, 1.046583, -2.06459],\n",
    "              [1.046583,  2.975937,  0.934251],\n",
    "              [-1.378574, 0.934251, 4.836173]])\n",
    "\n",
    "b = np.array([[-0.527466],\n",
    "              [2.526877],\n",
    "              [5.165441]])\n",
    "\n",
    "accuracy = 9"
   ]
  },
  {
   "cell_type": "markdown",
   "id": "static-launch",
   "metadata": {},
   "source": [
    "## Дана линейная система Ax=b"
   ]
  },
  {
   "cell_type": "code",
   "execution_count": 2,
   "id": "casual-print",
   "metadata": {},
   "outputs": [
    {
     "name": "stdout",
     "output_type": "stream",
     "text": [
      "A =\n",
      " [[ 3.278164  1.046583 -2.06459 ]\n",
      " [ 1.046583  2.975937  0.934251]\n",
      " [-1.378574  0.934251  4.836173]]\n",
      "b =\n",
      " [[-0.527466]\n",
      " [ 2.526877]\n",
      " [ 5.165441]]\n"
     ]
    }
   ],
   "source": [
    "print('A =\\n', A)\n",
    "print('b =\\n', b)"
   ]
  },
  {
   "cell_type": "markdown",
   "id": "soviet-promise",
   "metadata": {},
   "source": [
    "### 1) Найти решение $x^{∗}$ методом Гаусса."
   ]
  },
  {
   "cell_type": "code",
   "execution_count": 3,
   "id": "heavy-retailer",
   "metadata": {},
   "outputs": [
    {
     "name": "stdout",
     "output_type": "stream",
     "text": [
      "[[0.44116647]\n",
      " [0.33976985]\n",
      " [1.12820433]]\n"
     ]
    }
   ],
   "source": [
    "def find_solution_gauss(A, b, use_pivoting=False):\n",
    "    n = len(A)\n",
    "    if b.size != n:\n",
    "        raise ValueError('Incompatible sizes of A and b')\n",
    "\n",
    "    for i in range(n - 1):\n",
    "        if use_pivoting:\n",
    "            pivot_index = abs(A[i:, i]).argmax() + i\n",
    "            if A[pivot_index, i] == 0:\n",
    "                raise ValueError('A is singular')\n",
    "\n",
    "            if pivot_index != i:\n",
    "                A[[i, pivot_index]] = A[[pivot_index, i]]\n",
    "                b[[i, pivot_index]] = b[[pivot_index, i]]\n",
    "        else:\n",
    "            if A[i, i] == 0:\n",
    "                raise ValueError('Pivot is zero')\n",
    "\n",
    "        for j in range(i + 1, n):\n",
    "            ratio = A[j, i] / A[i, i]\n",
    "            A[j, i:] -= ratio * A[i, i:]\n",
    "            b[j] -= ratio * b[i]\n",
    "\n",
    "    x = np.zeros(n)\n",
    "    for i in range(n - 1, -1, -1):\n",
    "        x[i] = (b[i] - np.dot(A[i, i + 1:], x[i + 1:])) / A[i, i]\n",
    "\n",
    "    return x\n",
    "\n",
    "x_gauss = find_solution_gauss(np.copy(A), np.copy(b))\n",
    "x_sln = np.array([x_gauss]).T\n",
    "print(x_sln)"
   ]
  },
  {
   "cell_type": "markdown",
   "id": "scenic-bryan",
   "metadata": {},
   "source": [
    "### 2) Преобразовать исходную систему к системе вида $x = H_Dx+g_D$ , где $H_D = E-D^{-1}A, g_D = D^{-1}b$. Здесь D — диагональная матрица, у которой на диагонали находятся диагональные элементы матрицы A. Вычислить $\\|H_D\\|_\\infty$."
   ]
  },
  {
   "cell_type": "code",
   "execution_count": 4,
   "id": "caring-horse",
   "metadata": {},
   "outputs": [
    {
     "name": "stdout",
     "output_type": "stream",
     "text": [
      "D =\n",
      " [[3.278164 0.       0.      ]\n",
      " [0.       2.975937 0.      ]\n",
      " [0.       0.       4.836173]]\n",
      "\n",
      "Hd =\n",
      " [[ 0.         -0.31925889  0.62980071]\n",
      " [-0.35168184  0.         -0.31393507]\n",
      " [ 0.28505473 -0.19317981  0.        ]]\n",
      "\n",
      "gd =\n",
      " [[-0.16090287]\n",
      " [ 0.84910299]\n",
      " [ 1.06808441]]\n",
      "\n",
      "||Hd|| =\n",
      " 0.9490595960000001\n"
     ]
    }
   ],
   "source": [
    "D = np.diag(np.diag(np.copy(A)))\n",
    "print('D =\\n', D)\n",
    "Hd = np.eye(len(A)) - LA.inv(np.copy(D)).dot(A).round(accuracy)\n",
    "print('\\nHd =\\n', Hd)\n",
    "gd = LA.inv(np.copy(D)).dot(b).round(accuracy)\n",
    "print('\\ngd =\\n', gd)\n",
    "hd_norm = LA.norm(Hd, np.inf)\n",
    "print('\\n||Hd|| =\\n', hd_norm)"
   ]
  },
  {
   "cell_type": "markdown",
   "id": "compound-farming",
   "metadata": {},
   "source": [
    "### 3) Вычислить априорную оценку погрешности $\\|x^{(7)}-x^*\\|_\\infty$."
   ]
  },
  {
   "cell_type": "code",
   "execution_count": 5,
   "id": "regulation-trail",
   "metadata": {},
   "outputs": [
    {
     "name": "stdout",
     "output_type": "stream",
     "text": [
      "Априорная оценка: ||x_7−x*|| <=  14.541110854852617\n"
     ]
    }
   ],
   "source": [
    "def count_aprior_error(H, g, x0, k):\n",
    "    return LA.norm(H, np.inf) ** k * LA.norm(x0, np.inf) + (LA.norm(H, np.inf) ** k / (1 - LA.norm(H, np.inf))) * LA.norm(g, np.inf)\n",
    "    \n",
    "aprior_error = count_aprior_error(Hd, gd, np.zeros((len(Hd), 1)), 7)\n",
    "print('Априорная оценка: ||x_7−x*|| <= ', aprior_error)"
   ]
  },
  {
   "cell_type": "markdown",
   "id": "spanish-software",
   "metadata": {},
   "source": [
    "### 4) Вычислить приближение $x^{(7)}$ методом простой итерации. Вывести его фактическую погрешность, апостериорную оценку, априорную оценку. Уточнить последнее приближение по Люстернику. Вывести его фактическую погрешность."
   ]
  },
  {
   "cell_type": "code",
   "execution_count": 6,
   "id": "respiratory-survey",
   "metadata": {},
   "outputs": [
    {
     "name": "stdout",
     "output_type": "stream",
     "text": [
      "x_7 =\n",
      " [[0.39774661]\n",
      " [0.37325093]\n",
      " [1.10168369]]\n",
      "Метод простой итерации, апостериорная оценка: ||x_7 - x*|| <=  0.3550125173127319\n",
      "Метод простой итерации, априорная оценка: ||x_7 - x*|| <=  14.541110854852617\n",
      "Метод простой итерации: ||x_7 - x*|| =  0.04341985944526122\n",
      "Приближение по Люстернику: x_7 =\n",
      " [[0.42707658]\n",
      " [0.33336927]\n",
      " [1.13473128]]\n",
      "Приближение по Люстернику: ||x_7 - x*|| =  0.014089880238567887\n"
     ]
    }
   ],
   "source": [
    "def find_solution_simple_iteration(H, g, k):\n",
    "    if k < 0:\n",
    "        raise ValueError('k can not be negative')\n",
    "    if k == 0:\n",
    "        return np.zeros((len(H), 1))\n",
    "    return H.dot(find_solution_simple_iteration(H, g, k - 1)) + g\n",
    "\n",
    "\n",
    "def find_solution_lusternik(H, g, k):\n",
    "    xk = find_solution_simple_iteration(H, g, k)\n",
    "    xk1 = find_solution_simple_iteration(H, g, k - 1)\n",
    "    p = find_max_eigenvalue(H)\n",
    "    return xk1 + (1 / (1 - p)) * (xk - xk1)\n",
    "\n",
    "\n",
    "def count_aposterior_error(H, xk, xk1):\n",
    "    return (LA.norm(H, np.inf) / (1 - LA.norm(H, np.inf))) * LA.norm(xk - xk1, np.inf)\n",
    "\n",
    "x_6 = find_solution_simple_iteration(Hd, gd, 6)\n",
    "x_7 = find_solution_simple_iteration(Hd, gd, 7)\n",
    "aposterior_error = count_aposterior_error(Hd, x_7, x_6)\n",
    "print('x_7 =\\n', x_7)\n",
    "print('Метод простой итерации, апостериорная оценка: ||x_7 - x*|| <= ', aposterior_error)\n",
    "print('Метод простой итерации, априорная оценка: ||x_7 - x*|| <= ', aprior_error)\n",
    "simple_iteration_error = LA.norm(x_7 - x_sln, np.inf)\n",
    "print('Метод простой итерации: ||x_7 - x*|| = ', simple_iteration_error)\n",
    "x_lusternik = find_solution_lusternik(Hd, gd, 7)\n",
    "print('Приближение по Люстернику: x_7 =\\n', x_lusternik)\n",
    "lusternik_error = LA.norm(x_lusternik - x_sln, np.inf)\n",
    "print('Приближение по Люстернику: ||x_7 - x*|| = ', lusternik_error)"
   ]
  },
  {
   "cell_type": "markdown",
   "id": "interstate-fault",
   "metadata": {},
   "source": [
    "### 5) Вычислить приближение $x^{(7)}$ к решению системы $x = H_Dx + g_D$ методом Зейделя. Вывести его фактическую погрешность. Сравнить с решением, полученным методом простой итерации."
   ]
  },
  {
   "cell_type": "code",
   "execution_count": 11,
   "id": "boolean-blend",
   "metadata": {},
   "outputs": [
    {
     "name": "stdout",
     "output_type": "stream",
     "text": [
      "Приближение методом Зейделя:\n",
      " [[0.43418382]\n",
      " [0.34417454]\n",
      " [1.12536299]]\n",
      "Приближение методом Зейделя: ||x_7 - x*|| =  0.0069826427664058666\n"
     ]
    }
   ],
   "source": [
    "def find_solution_seidel(Hl, Hr, g, k):\n",
    "    if k < 0:\n",
    "        raise ValueError('k can not be negative')\n",
    "    if k == 0:\n",
    "        return np.zeros((len(Hl), 1))\n",
    "    \n",
    "    x_prev = find_solution_seidel(Hl, Hr, g, k - 1)\n",
    "    E = np.eye(len(Hl))\n",
    "    \n",
    "    return LA.inv(E - Hl).dot(Hr).dot(x_prev) + LA.inv(E - Hl).dot(g)\n",
    "\n",
    "Hdl = np.copy(Hd)\n",
    "Hdr = np.copy(Hd)\n",
    "\n",
    "for i in range(len(Hd)):\n",
    "    for j in range(len(Hd)):\n",
    "        if i > j:\n",
    "            Hdr[i, j] = 0\n",
    "        else:\n",
    "            Hdl[i, j] = 0\n",
    "            \n",
    "x_seidel = find_solution_seidel(Hdl, Hdr, gd, 7)\n",
    "print('Приближение методом Зейделя:\\n', x_seidel)\n",
    "seidel_error = LA.norm(x_seidel - x_sln, np.inf)\n",
    "print('Приближение методом Зейделя: ||x_7 - x*|| = ', seidel_error)"
   ]
  },
  {
   "cell_type": "markdown",
   "id": "portable-float",
   "metadata": {},
   "source": [
    "### 6) При выполнении задания в математическом пакете определить спектральный радиус матрицы перехода, если рассматривать метод Зейделя как метод простой итерации."
   ]
  },
  {
   "cell_type": "code",
   "execution_count": null,
   "id": "aboriginal-delay",
   "metadata": {},
   "outputs": [],
   "source": []
  },
  {
   "cell_type": "markdown",
   "id": "incorporate-integer",
   "metadata": {},
   "source": [
    "### 7) Вычислить приближение $x^{(7)}$ методом верхней релаксации."
   ]
  },
  {
   "cell_type": "code",
   "execution_count": 8,
   "id": "major-bradley",
   "metadata": {},
   "outputs": [],
   "source": [
    "def find_solution_upper_relaxation(H, g, k):\n",
    "    return 0\n",
    "\n",
    "upper_relaxation_error = LA.norm(0 - x_sln, np.inf)"
   ]
  },
  {
   "cell_type": "markdown",
   "id": "norwegian-perth",
   "metadata": {},
   "source": [
    "### Сравнить фактические погрешности $x^{(7)}$, полученного различными методами."
   ]
  },
  {
   "cell_type": "code",
   "execution_count": 12,
   "id": "criminal-channels",
   "metadata": {},
   "outputs": [
    {
     "name": "stdout",
     "output_type": "stream",
     "text": [
      "Фактические погрешности для x_7\n",
      "Метод простой итерации:  0.04341985944526122\n",
      "Приближение по Люстернику:  0.014089880238567887\n",
      "Метод Зейделя:  0.0069826427664058666\n",
      "Метод верхней релаксации:  1.1282043259561196\n"
     ]
    }
   ],
   "source": [
    "print('Фактические погрешности для x_7')\n",
    "print('Метод простой итерации: ', simple_iteration_error)\n",
    "print('Приближение по Люстернику: ', lusternik_error)\n",
    "print('Метод Зейделя: ', seidel_error)\n",
    "print('Метод верхней релаксации: ', upper_relaxation_error)"
   ]
  },
  {
   "cell_type": "code",
   "execution_count": null,
   "id": "buried-storage",
   "metadata": {},
   "outputs": [],
   "source": []
  }
 ],
 "metadata": {
  "kernelspec": {
   "display_name": "Python 3",
   "language": "python",
   "name": "python3"
  },
  "language_info": {
   "codemirror_mode": {
    "name": "ipython",
    "version": 3
   },
   "file_extension": ".py",
   "mimetype": "text/x-python",
   "name": "python",
   "nbconvert_exporter": "python",
   "pygments_lexer": "ipython3",
   "version": "3.7.4"
  }
 },
 "nbformat": 4,
 "nbformat_minor": 5
}
